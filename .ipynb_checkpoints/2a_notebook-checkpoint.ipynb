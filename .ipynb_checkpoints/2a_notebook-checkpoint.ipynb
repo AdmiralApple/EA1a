{
 "cells": [
  {
   "cell_type": "markdown",
   "id": "b274c70a",
   "metadata": {
    "jupyter": {
     "source_hidden": true
    }
   },
   "source": [
    "# Assignment 2a Notebook: Automated Design of AI Agents with Random Search\n",
    "Assignment Series 2 uses a variant of Pac-Man, which we call GPac, where the goal is to produce AI agents to play GPac. Assignment 2a (this assignment) will cover the design of AI Pac-Man agents with random search, Assignment 2b will cover the design of AI Pac-Man agents with genetic programming (GP), and Assignment 2c will cover the competitive co-evolution of AI Pac-Man and ghost agents playing against each other.\n",
    "\n",
    "Assignment Series 1 involved a large amount of tutorialization and guidance for both the EC concepts at hand as well as how to implement these concepts. Assignment Series 2, on the other hand, aims to explain the EC concepts while leaving much of the implementation specifics for you to handle independently. We will still provide some guidance and warn you of specific pitfalls, but the codebase you build during this assignment series will largely be of your own design.\n",
    "\n",
    "In this notebook, we'll lay the foundation for implementing agent design with GP by implementing random search (which you'll eventually use for GP in the next assignment). Unlike the previous random search assignment, however, we have opted to leave the specifics of how to implement the parse tree genotype as an open problem for you to solve.\n",
    "\n",
    "As usual, make sure you are in the `EC-env` environment. If you are not, terminate the notebook server, run `conda activate EC-env`, and restart the notebook server.\n",
    "\n",
    "To begin the assignment, execute the following cell."
   ]
  },
  {
   "cell_type": "code",
   "execution_count": 1,
   "id": "d5b80481",
   "metadata": {
    "collapsed": true,
    "jupyter": {
     "outputs_hidden": true,
     "source_hidden": true
    }
   },
   "outputs": [
    {
     "name": "stdout",
     "output_type": "stream",
     "text": [
      "Requirement already satisfied: snake-eyes-parser in /home/kali/miniconda3/envs/EC-env/lib/python3.11/site-packages (0.1.0)\n",
      "Requirement already satisfied: pytest in /home/kali/miniconda3/envs/EC-env/lib/python3.11/site-packages (8.4.2)\n",
      "Requirement already satisfied: iniconfig>=1 in /home/kali/miniconda3/envs/EC-env/lib/python3.11/site-packages (from pytest) (2.1.0)\n",
      "Requirement already satisfied: packaging>=20 in /home/kali/miniconda3/envs/EC-env/lib/python3.11/site-packages (from pytest) (25.0)\n",
      "Requirement already satisfied: pluggy<2,>=1.5 in /home/kali/miniconda3/envs/EC-env/lib/python3.11/site-packages (from pytest) (1.6.0)\n",
      "Requirement already satisfied: pygments>=2.7.2 in /home/kali/miniconda3/envs/EC-env/lib/python3.11/site-packages (from pytest) (2.19.1)\n",
      "The first cell has been executed!\n"
     ]
    }
   ],
   "source": [
    "# Configure this notebook to automatically reload modules as they're modified\n",
    "# https://stackoverflow.com/questions/1907993/autoreload-of-modules-in-ipython\n",
    "%load_ext autoreload\n",
    "%autoreload 2\n",
    "\n",
    "!pip install snake-eyes-parser\n",
    "!pip install pytest\n",
    "\n",
    "import warnings\n",
    "warnings.filterwarnings('ignore') # hopefully stop any pedantic warnings\n",
    "\n",
    "import matplotlib.pyplot as plt\n",
    "\n",
    "%matplotlib widget\n",
    "plt.rcParams['figure.figsize'] = (10.0, 3.0) # set default size of plots\n",
    "plt.rcParams['image.interpolation'] = 'nearest'\n",
    "plt.rcParams['figure.constrained_layout.use'] = True\n",
    "plt.rcParams['font.size'] = 8.0\n",
    "plt.rcParams['figure.titlesize'] = 12.0\n",
    "plt.rcParams['axes.titlesize'] = 12.0\n",
    "plt.rcParams['axes.labelsize'] = 8.0\n",
    "plt.rcParams['figure.dpi'] = 100.0\n",
    "plt.rcParams['savefig.dpi'] = 400.0\n",
    "plt.rcParams['animation.embed_limit'] = 2048\n",
    "\n",
    "import multiprocessing\n",
    "\n",
    "multiprocessing.set_start_method('fork', force=True)\n",
    "\n",
    "import os\n",
    "import statistics\n",
    "from IPython.display import HTML\n",
    "from ipywidgets import Output\n",
    "from pathlib import Path\n",
    "from scipy import stats\n",
    "from snake_eyes import read_config\n",
    "from fitness import play_GPac\n",
    "from gpac import render_game\n",
    "from histogram import RoundedFitnessHistogramMaker\n",
    "\n",
    "print('The first cell has been executed!')"
   ]
  },
  {
   "cell_type": "markdown",
   "id": "330fef65",
   "metadata": {
    "jupyter": {
     "source_hidden": true
    }
   },
   "source": [
    "## GPac\n",
    "In this assignment series, we'll be playing GPac: a game inspired by Pac-Man but using simplified mechanics. To make this assignment more about your ability to understand and implement search algorithms, not your ability to implement a video game, we're providing you with an implementation of GPac. We will now go over the rules of the game in detail; this should be easy to understand if you're familiar with any version of Pac-Man.\n",
    "\n",
    "In GPac, the world is a two-dimensional grid and there is no world wrap (agents cannot go off the edges of the map, unlike some versions of Pac-Man where this moves them to the opposite side). The origin of the map is in the bottom-left corner. There are two types of agents: Pac-Man and the Ghosts. Pac-Man always starts at the top-left cell and the three ghosts each spawn at a different corner of the map. These agents are guided by controllers, which is what your search algorithms will produce. Agents move in cardinal directions (up, down, left, right); Pac-Man can choose to not move, but the Ghosts cannot. Agents move from one grid cell to another in a discrete fashion (i.e., they move a whole cell at a time). Ghosts can occupy the same grid cell as other ghosts. If Pac-Man and a Ghost occupy the same cell, the game ends. If Pac-Man and a Ghost exchange cells, the game ends.\n",
    "\n",
    "The map is filled with pills. If Pac-Man enters a cell that contains a pill, the pill is removed, and Pac-Man's score is increased. If all pills have been removed from the world, the game ends. The game will try to spawn a fruit in a corner of the map after every multiple of a configurable number of turns. This will only occur if there is not already a fruit on the map. If Pac-Man enters the cell that contains the fruit, the fruit is removed, and Pac-Man's score is increased by the fruit score which is user-configurable.\n",
    "\n",
    "Each game starts with time equal to the number of grid cells in the world multiplied by a configurable coefficient. Each turn is one time step. When the time limit reaches zero, the game is over. Each turn, the game gives each of the agent's controllers the current game state. Each controller will then choose what move to make (up, down, left, right for all controllers, and the option of no movement for Pac-Man only). Once all of the agents have determined their next move, the game state will simultaneously update every agent's position and decrease the time remaining by one. After everyone has moved, the game will check for the following conditions *in this order*:\n",
    "1. Pac-Man exchanged cells with a Ghost, reducing Pac-Man's score and ending the game.\n",
    "2. Pac-Man is in a cell with a pill, increasing Pac-Man's score and removing the pill.\n",
    "3. Pac-Man is in a cell with the fruit, increasing Pac-Man's score and removing the fruit.\n",
    "4. There are no more pills, increasing Pac-Man's score and ending the game.\n",
    "5. Pac-Man moved into the same cell as a ghost, reducing Pac-Man's score and ending the game.\n",
    "6. Time remaining is equal to zero, ending the game.\n",
    "\n",
    "Pac-Man's score is the sum of:\n",
    "* The percentage of pills consumed.\n",
    "* The number of fruit consumed, times the fruit score.\n",
    "* The percentage of time remaining, **if** the game ended because there are no more pills.\n",
    "* The negation of the percentage of time remaining, **if** the game ended because a ghost caught Pac-Man.\n",
    "\n",
    "This score should be used directly for the fitness of the Pac-Man controller. That is, we want to find a Pac-Man controller that can produce the greatest score. This score was explicitly designed to be useful as a fitness function, and not necessarily a faithful recreation of the score calculation from any version of Pac-Man. In some research contexts this may be considered dubious, as we're adding human knowledge to the search rather than using a naïve definition of fitness, but it should (hopefully) help your algorithms obtain better performance.\n",
    "\n",
    "## play_GPac\n",
    "Below is a function call to the main fitness function of this assignment series, `play_GPac`. The parameters passed in this example result in a game where agents select random valid moves. The returned values are the Pac-Man score and a log of the game."
   ]
  },
  {
   "cell_type": "code",
   "execution_count": 2,
   "id": "22f35a12",
   "metadata": {
    "jupyter": {
     "source_hidden": true
    }
   },
   "outputs": [
    {
     "name": "stdout",
     "output_type": "stream",
     "text": [
      "Pac-Man's score was 33.333333333333336, and the game log was written to example_game.txt\n"
     ]
    }
   ],
   "source": [
    "config = read_config('configs/2a/green_config.txt', globals(), locals())\n",
    "\n",
    "# Call the fitness function, with no controllers.\n",
    "example_score, example_log = play_GPac(None, **config['game'])\n",
    "\n",
    "# Write the game log to a file.\n",
    "example_game_log_path = 'example_game.txt'\n",
    "with open(example_game_log_path, 'w') as f:\n",
    "    [f.write(f'{line}\\n') for line in example_log]\n",
    "\n",
    "# Print for tutorialization.\n",
    "print(f\"Pac-Man's score was {example_score}, and the game log was written to {example_game_log_path}\")"
   ]
  },
  {
   "cell_type": "markdown",
   "id": "d8edfa13-1235-4888-8602-393d34365bb6",
   "metadata": {
    "jupyter": {
     "source_hidden": true
    }
   },
   "source": [
    "Running the previous cell should have made an `example_game.txt` file in your repository. You can upload this file to [the online visualizer](http://bonsai.auburn.edu/dtauritz/courses/ec/intro/2020fall/visualizer.html) to watch the full game. As these agents made completely random decisions, the gameplay is probably unimpressive, but this may give you a better idea of how the game works.\n",
    "\n",
    "As a preferred alternative to the online visualizer, you can run the following cell to render the game in your Notebook. Note this may take a few minutes depending on your computer."
   ]
  },
  {
   "cell_type": "code",
   "execution_count": 3,
   "id": "f309d4ae-990c-4693-be9c-4a77f040d711",
   "metadata": {
    "collapsed": true,
    "jupyter": {
     "outputs_hidden": true,
     "source_hidden": true
    }
   },
   "outputs": [
    {
     "data": {
      "application/vnd.jupyter.widget-view+json": {
       "model_id": "39a715e6776d4186b85cd0b5c236af4a",
       "version_major": 2,
       "version_minor": 0
      },
      "text/plain": [
       "Output(outputs=({'output_type': 'display_data', 'data': {'text/plain': '<IPython.core.display.HTML object>', '…"
      ]
     },
     "execution_count": 3,
     "metadata": {},
     "output_type": "execute_result"
    }
   ],
   "source": [
    "out = Output()\n",
    "animation = render_game(example_log)\n",
    "out.append_display_data(HTML(animation))\n",
    "del animation\n",
    "out"
   ]
  },
  {
   "attachments": {
    "image.png": {
     "image/png": "[encoded data removed]"
    }
   },
   "cell_type": "markdown",
   "id": "45e2e060",
   "metadata": {
    "jupyter": {
     "source_hidden": true
    }
   },
   "source": [
    "## Problem Formulation\n",
    "Now that you've seen a game played by an agent that makes random actions, let's talk about how more intelligent AI agents will work in GPac. When an agent makes a move in GPac, it knows the outcome of its action. The agent doesn't necessarily know what actions its opponent(s) will make during the same turn, but we'll ignore that in this assignment series and consider only the outcome of an agent's immediate actions. That is, our agents will assume (incorrectly) that the other agents will stay where they are.\n",
    "\n",
    "More formally, for a given state $s$ and its corresponding action space $A(s)$, we know all valid actions, $a\\in A(s)$, and the resultant state from executing any of these actions, $s(a) \\to s'$. In this assignment series, you will automate the design of a value function $V(s')$ that approximates the value/utility of being in a particular state $s'$. The agent will select a valid action using one of the greedy policies $argmax_a (V(s'))$ or $argmin_a (V(s'))$. That is, for each state, the agent will choose whichever action leads to the best next state according to its value function $V$. This value function is what we will be using GP to design.\n",
    "\n",
    "In less formal terms, you are searching for a function to score how desirable a given state is. The action made by the agent is that which produces either the highest or lowest score (feel free to experiment and see which approach performs better).\n",
    "\n",
    "**Note:** You may see the value function $V$ used in reinforcement learning literature to denote a function that estimates the expected long-term reward of a policy. We are not strictly adhering to that definition in this assignment series, though the overall goal of searching for a performant agent is the same.\n",
    "\n",
    "## GPac Parse Trees\n",
    "The functions you generate will be in the form of parse tree expressions consisting of primitives. There are two types of primitives. These have many names, but the ones we will be using for these assignments are highlighted:\n",
    "* **Terminal**/sensor/leaf primitives: these extract values from the state $s'$. These have no children, and thus are only found at the very bottom of a branch in the tree.\n",
    "* **Nonterminal**/function/operator/internal primitives: these perform a calculation using the values produced by their children as input. In this assignment series, these have exactly two children.\n",
    "\n",
    "The required terminal primitives for this assignment are as follows:\n",
    "* `G` - Manhattan distance to nearest ghost\n",
    "* `P` - Manhattan distance to nearest pill\n",
    "* `F` - Manhattan distance to nearest fruit\n",
    "    * Should return the same value for any state that does not have a fruit on the map.\n",
    "* `W` - number of immediately adjacent walls\n",
    "    * Only counts adjacent walls in the four cardinal directions.\n",
    "    * Borders of the map are considered walls for the purposes of this primitive.\n",
    "* `C` - constant value\n",
    "    * Each `C` node should have a new value sampled *independently* when it is created. DO NOT use a single global value.\n",
    "    * Sampled from an arbitrary range, around the same magnitude you expect from the other terminal nodes, including negative values.\n",
    "    * After it is created, a given `C` node should return the same value every time it is called.\n",
    "\n",
    "**Note**: The G, P, and F primitives use Manhattan distance without considering walls. Use the `manhattan` function in `fitness.py` for this calculation.\n",
    "\n",
    "The required nonterminal primitives for this assignment are as follows, where $a$ is the value of the left child and $b$ is the value of the right child:\n",
    "* `+`: $a+b$\n",
    "* `-`: $a-b$\n",
    "* `*`: $a*b$\n",
    "* `/`:\n",
    "$\\left\\{\\begin{array}{lr}\n",
    "    a\\ /\\ b, & \\text{if } b \\neq 0\\\\\n",
    "    f(a), & \\text{if } b = 0\n",
    "\\end{array}\\right\\}$ where $f(a)$ represents some way of gracefully handling `a/0`\n",
    "* `RAND` - random number uniformly chosen from the range `[min(a, b), max(a, b)]`\n",
    "\n",
    "**Note**: Keep in mind that floating-point numbers have a fixed range in Python, and you need to account for this in your operations (i.e, values beyond +/-`sys.float_info.max` will be silently changed to +/-`inf`). You may want to prevent this from happening.\n",
    "\n",
    "Parse trees are executed by performing a depth-first in-order traversal. As an example, the function $V(s') =$ `(1.2/G)*RAND(W,P)` would be represented as the following parse tree:\n",
    "\n",
    "![image.png](attachment:image.png)\n",
    "\n",
    "When represented in the prescribed output format we will discuss later, this example parse tree appears as follows:\n",
    "```\n",
    "*\n",
    "|/\n",
    "||1.2\n",
    "||G\n",
    "|RAND\n",
    "||W\n",
    "||P\n",
    "```\n",
    "\n",
    "## Implementing The Parse Tree Genotype\n",
    "Recall that in this assignment, it is up to you to implement the parse tree gene representation as an open-ended problem. This assignment will focus on generating and executing trees, but keep in mind that the next assignment will have you recombine and mutate trees as well. Your implementation for this assignment should be able to create parse trees with the grow and full methods, print trees as strings using the prescribed output format, and execute parse trees to evaluate a state $s'$. The details of these requirements will be discussed momentarily. We informally suggest that you follow the remainder of this notebook in order, as we believe it to be the most logical order for most people. However, **this assignment is open-ended and you are encouraged to implement the required functionality in the order that makes the most sense *to you***. As such, you are welcome to complete sections of this notebook out of order so long as the notebook in your final submission runs from beginning to end.\n",
    "\n",
    "**We strongly recommend that you implement your parse tree gene representation as a new class.** An object instance of your new class will later be assigned to the `genes` member variable of the provided `TreeGenotype` class. You are welcome to define your tree class in the `tree_genotype.py` file since your representation class could be tightly coupled with the provided `TreeGenotype` class. If you wish to define your class in a new file, however, please import your file in the following cell. To be clear, the `genes` variable will represent the entire parse tree, analogous to the linear genotype from Assignment Series 1."
   ]
  },
  {
   "cell_type": "code",
   "execution_count": 4,
   "id": "24f7cf17",
   "metadata": {},
   "outputs": [],
   "source": [
    "from tree_genotype import *"
   ]
  },
  {
   "cell_type": "markdown",
   "id": "2ca435e3",
   "metadata": {
    "jupyter": {
     "source_hidden": true
    }
   },
   "source": [
    "### The Full Method for Tree Initialization\n",
    "Assume we have a set of nonterminal primitives $F$, a set of terminal input primitives $T$, and an initial depth limit $D_{max}$. In the full method, **every branch of the tree has depth $D_{max}$**. That is, nodes at depth $d$ are chosen from $F$ if $d<D_{max}$ or from $T$ if $d=D_{max}$ [1]. Depth is calculated as the distance from the root, so the root has depth 0, its children have depth 1, their children have depth 2, etc.\n",
    "\n",
    "In less formal terms, you create a tree by selecting random nonterminal nodes until you reach the depth limit. Once you reach the depth limit, you select random terminal nodes. This produces full trees where each branch reaches the depth limit.\n",
    "\n",
    "**HINT**: These will be called from the `TreeGenotype.initialization` class method. If you pass that function `**config['pac_init']`, it will have `depth_limit` from your config, and it will have the `terminals` and `nonterminals` variables from your config inside of `kwargs`. Refer back to the parameter unpacking tutorial from Assignment 1b for more examples about this technique, which we used extensively in Assignment Series 1. You could use a similar technique (unpacking `kwargs`) to cleanly pass the `terminals` and `nonterminals` variables to your code for the full method.\n",
    "\n",
    "Implement the full method in your .py file, then call it in the next cell to instantiate a tree. You can modify this cell to test your implementation however you wish."
   ]
  },
  {
   "cell_type": "code",
   "execution_count": 7,
   "id": "3877fdb6",
   "metadata": {
    "jupyter": {
     "source_hidden": true
    }
   },
   "outputs": [],
   "source": [
    "config = read_config('configs/2a/green_config.txt', globals(), locals())\n",
    "full_tree = TreeGenotype.generate_full_tree(\n",
    "    depth_limit=config['pac_init']['depth_limit'],\n",
    "    terminals=config['pac_init']['terminals'],\n",
    "    nonterminals=config['pac_init']['nonterminals']\n",
    ")\n",
    "\n",
    "del config, full_tree"
   ]
  },
  {
   "cell_type": "code",
   "execution_count": null,
   "id": "94b409ba-b523-4472-85cf-359faa5b8b0f",
   "metadata": {
    "jupyter": {
     "source_hidden": true
    }
   },
   "outputs": [],
   "source": []
  },
  {
   "cell_type": "markdown",
   "id": "1bfc450e",
   "metadata": {
    "jupyter": {
     "source_hidden": true
    }
   },
   "source": [
    "### The Grow Method for Tree Initialization\n",
    "Like the full method, assume we have a set of nonterminal primitives $F$, a set of terminal primitives $T$, and an initial depth limit $D_{max}$. In the grow method, however, nodes at depth $d$ are chosen from $F \\cup T$ if $d<D_{max}$ or from $T$ if $d=D_{max}$ [1].\n",
    "\n",
    "In less formal terms, you create a tree by randomly selecting a terminal *or* nonterminal node if under the depth limit. If at the depth limit, you select a random terminal node. This produces trees with less uniform branch depth than the full method since branches can terminate before the depth limit when a terminal node is selected.\n",
    "\n",
    "**Note**: This algorithm will come in handy when you implement mutation in Assignment 2b, since you can use it to grow new branches/subtrees on an existing tree. Try to write your code with this plan in mind.\n",
    "\n",
    "Implement the grow method in your .py file, then call it in the next cell to instantiate a tree. You can modify this cell to test your implementation however you wish."
   ]
  },
  {
   "cell_type": "code",
   "execution_count": 8,
   "id": "f43f13ef",
   "metadata": {
    "collapsed": true,
    "jupyter": {
     "outputs_hidden": true,
     "source_hidden": true
    }
   },
   "outputs": [
    {
     "name": "stdout",
     "output_type": "stream",
     "text": [
      "TreeNode(-, children=2)\n",
      "TreeNode(F, children=0)\n",
      "TreeNode(G, children=0)\n",
      "TreeNode(*, children=2)\n",
      "TreeNode(W, children=0)\n"
     ]
    }
   ],
   "source": [
    "config = read_config('configs/2a/green_config.txt', globals(), locals())\n",
    "for depth in [1, 2, 3, 4, 5]:\n",
    "    tree = TreeGenotype.generate_grow_tree(\n",
    "        depth_limit=depth,\n",
    "        terminals=config['pac_init']['terminals'],\n",
    "        nonterminals=config['pac_init']['nonterminals']\n",
    "    )\n",
    "    print(tree.root)\n",
    "del config, tree"
   ]
  },
  {
   "cell_type": "markdown",
   "id": "ad5f03c2",
   "metadata": {},
   "source": [
    "### Population Initialization with Ramped Half-And-Half\n",
    "Now that the grow and full methods are implemented, you have the necessary components to implement ramped half-and-half population initialization. In ramped half-and-half, half of the population is initialized with the grow method and the other half with the full method.\n",
    "\n",
    "The population should be generated with max depths distributed uniformly across the range `[1, depth_limit]`. `depth_limit` is in the config, and you can increase it to allow for more complicated trees, though you should not lower it beneath the default value we have provided. In practice you would assign depths deterministically, but we consider it acceptable to sample uniform randomly from this range each time you generate a tree.\n",
    "\n",
    "Implement the `initialization` class method of the `TreeGenotype` class in `tree_genotype.py` such that the `genes` member variable of each individual in the population is assigned a tree using the ramped half-and-half method.\n",
    "\n",
    "Once implemented, execute the following cell to call your ramped half-and-half implementation."
   ]
  },
  {
   "cell_type": "code",
   "execution_count": 16,
   "id": "ff287ad8",
   "metadata": {},
   "outputs": [],
   "source": [
    "from tree_genotype import *\n",
    "\n",
    "config = read_config('configs/2a/green_config.txt', globals(), locals())\n",
    "mu = 500\n",
    "example_population = TreeGenotype.initialization(mu, **config['pac_init'])\n",
    "\n",
    "if len(example_population) != mu:\n",
    "    print('The population does not have the correct number of individuals.')\n",
    "if any(individual.genes is None for individual in example_population):\n",
    "    print('Some of the population had no genes assigned.')\n",
    "\n",
    "del config, mu, example_population"
   ]
  },
  {
   "cell_type": "markdown",
   "id": "c85aa3cf",
   "metadata": {},
   "source": [
    "### Serialization\n",
    "As discussed in Assignment Series 1, serialization and deserialization are very important in EC for a number of reasons. When working with GP trees we have another important motivator in that it is tremendously valuable to visualize your trees and the equations/programs they encode. We require you to implement the `TreeGenotype.serialize` method to return a string representing `self.genes` with the following format. We gave an example of this format for a tree earlier in the notebook.\n",
    "\n",
    "Nodes are listed starting from the root according to a depth-first pre-order traversal. Each node should be on its own line. The line should begin with a number of pipes (`|`) equal to the depth of the node, where the root has depth 0. The line then ends with the string representing the node. This could be written as:\n",
    "\n",
    "`<a number of '|'s equal to the current depth><node string><newline>`\n",
    "\n",
    "A `G` node at depth 3 would thus be printed as `|||G`.\n",
    "\n",
    "The string representation for each primitive type is the same one that is provided in the default `green_config.txt` `terminals` and `nonterminals` variables (e.g., `'G'`, `'P'`, `'+'`, `'-'`, `'RAND'`, etc.), except for constant nodes which should be converted to a string using `str(float(value))`.\n",
    "\n",
    "Refer back to the *GPac Parse Trees* section in this notebook, where we introduced the primitives, for an example of this format. That section also contains the expected names for the primitives, if you've changed the primitive representation in your config.\n",
    "\n",
    "Once implemented, execute the following cell and manually inspect some small trees for obvious errors."
   ]
  },
  {
   "cell_type": "code",
   "execution_count": 18,
   "id": "1063483f-289a-4bbf-808a-e81cfd591afe",
   "metadata": {},
   "outputs": [],
   "source": []
  },
  {
   "cell_type": "code",
   "execution_count": 21,
   "id": "a18d5459",
   "metadata": {
    "collapsed": true,
    "jupyter": {
     "outputs_hidden": true,
     "source_hidden": true
    }
   },
   "outputs": [
    {
     "name": "stdout",
     "output_type": "stream",
     "text": [
      "Individual 0's tree:\n",
      "+\n",
      "|G\n",
      "|2.503487941783331\n",
      "Individual 1's tree:\n",
      "RAND\n",
      "|/\n",
      "||/\n",
      "|||P\n",
      "|||G\n",
      "||RAND\n",
      "|||-3.0279394221558498\n",
      "|||P\n",
      "|RAND\n",
      "||*\n",
      "|||G\n",
      "|||-2.8839442861299314\n",
      "||+\n",
      "|||F\n",
      "|||F\n",
      "Individual 2's tree:\n",
      "*\n",
      "|G\n",
      "|F\n",
      "Individual 3's tree:\n",
      "+\n",
      "|+\n",
      "||*\n",
      "|||F\n",
      "|||W\n",
      "||+\n",
      "|||F\n",
      "|||G\n",
      "|/\n",
      "||+\n",
      "|||G\n",
      "|||W\n",
      "||*\n",
      "|||F\n",
      "|||G\n",
      "Individual 4's tree:\n",
      "*\n",
      "|+\n",
      "||RAND\n",
      "|||W\n",
      "|||F\n",
      "||-\n",
      "|||-0.4479700336287191\n",
      "|||-3.4005465493138063\n",
      "|*\n",
      "||-\n",
      "|||-4.0759955381345625\n",
      "|||G\n",
      "||/\n",
      "|||1.130834089359328\n",
      "|||1.6329508617434954\n",
      "Individual 5's tree:\n",
      "-\n",
      "|P\n",
      "|-2.58373742852641\n",
      "Individual 6's tree:\n",
      "*\n",
      "|-\n",
      "||F\n",
      "||F\n",
      "|/\n",
      "||W\n",
      "||P\n",
      "Individual 7's tree:\n",
      "RAND\n",
      "|0.7702656887966643\n",
      "|+\n",
      "||3.727804191017242\n",
      "||P\n",
      "Individual 8's tree:\n",
      "RAND\n",
      "|*\n",
      "||*\n",
      "|||4.272777854082065\n",
      "|||P\n",
      "||0.36882662448097925\n",
      "|-\n",
      "||/\n",
      "|||W\n",
      "|||F\n",
      "||+\n",
      "|||W\n",
      "|||W\n",
      "Individual 9's tree:\n",
      "G\n"
     ]
    }
   ],
   "source": [
    "from tree_genotype import *\n",
    "\n",
    "config = read_config('configs/2a/green_config.txt', globals(), locals())\n",
    "config['pac_init']['depth_limit'] = 3\n",
    "example_population = TreeGenotype.initialization(10, **config['pac_init'])\n",
    "\n",
    "for idx, individual in enumerate(example_population):\n",
    "    print(f\"Individual {idx}'s tree:\")\n",
    "    print(individual.serialize())\n",
    "\n",
    "del config, example_population"
   ]
  },
  {
   "cell_type": "markdown",
   "id": "0b07d46a",
   "metadata": {
    "jupyter": {
     "source_hidden": true
    }
   },
   "source": [
    "### Automated Tree Assessment\n",
    "Now that you've done some light manual testing, let's perform some automated testing at scale using a tool that examines trees from files. Execute the following cell to generate 100 trees that will be subjected to automated assessment. Note that this only checks for valid structure and printing, and doesn't necessarily guarantee that your tree generation or execution are entirely correct."
   ]
  },
  {
   "cell_type": "code",
   "execution_count": 22,
   "id": "ab6f4b20",
   "metadata": {
    "collapsed": true,
    "jupyter": {
     "outputs_hidden": true,
     "source_hidden": true
    }
   },
   "outputs": [
    {
     "name": "stdout",
     "output_type": "stream",
     "text": [
      "tree_tests/tree0.txt: PASS\n",
      "tree_tests/tree10.txt: PASS\n",
      "tree_tests/tree11.txt: PASS\n",
      "tree_tests/tree12.txt: PASS\n",
      "tree_tests/tree13.txt: PASS\n",
      "tree_tests/tree14.txt: PASS\n",
      "tree_tests/tree15.txt: PASS\n",
      "tree_tests/tree16.txt: PASS\n",
      "tree_tests/tree17.txt: PASS\n",
      "tree_tests/tree18.txt: PASS\n",
      "tree_tests/tree19.txt: PASS\n",
      "tree_tests/tree1.txt: PASS\n",
      "tree_tests/tree20.txt: PASS\n",
      "tree_tests/tree21.txt: PASS\n",
      "tree_tests/tree22.txt: PASS\n",
      "tree_tests/tree23.txt: PASS\n",
      "tree_tests/tree24.txt: PASS\n",
      "tree_tests/tree25.txt: PASS\n",
      "tree_tests/tree26.txt: PASS\n",
      "tree_tests/tree27.txt: PASS\n",
      "tree_tests/tree28.txt: PASS\n",
      "tree_tests/tree29.txt: PASS\n",
      "tree_tests/tree2.txt: PASS\n",
      "tree_tests/tree30.txt: PASS\n",
      "tree_tests/tree31.txt: PASS\n",
      "tree_tests/tree32.txt: PASS\n",
      "tree_tests/tree33.txt: PASS\n",
      "tree_tests/tree34.txt: PASS\n",
      "tree_tests/tree35.txt: PASS\n",
      "tree_tests/tree36.txt: PASS\n",
      "tree_tests/tree37.txt: PASS\n",
      "tree_tests/tree38.txt: PASS\n",
      "tree_tests/tree39.txt: PASS\n",
      "tree_tests/tree3.txt: PASS\n",
      "tree_tests/tree40.txt: PASS\n",
      "tree_tests/tree41.txt: PASS\n",
      "tree_tests/tree42.txt: PASS\n",
      "tree_tests/tree43.txt: PASS\n",
      "tree_tests/tree44.txt: PASS\n",
      "tree_tests/tree45.txt: PASS\n",
      "tree_tests/tree46.txt: PASS\n",
      "tree_tests/tree47.txt: PASS\n",
      "tree_tests/tree48.txt: PASS\n",
      "tree_tests/tree49.txt: PASS\n",
      "tree_tests/tree4.txt: PASS\n",
      "tree_tests/tree50.txt: PASS\n",
      "tree_tests/tree51.txt: PASS\n",
      "tree_tests/tree52.txt: PASS\n",
      "tree_tests/tree53.txt: PASS\n",
      "tree_tests/tree54.txt: PASS\n",
      "tree_tests/tree55.txt: PASS\n",
      "tree_tests/tree56.txt: PASS\n",
      "tree_tests/tree57.txt: PASS\n",
      "tree_tests/tree58.txt: PASS\n",
      "tree_tests/tree59.txt: PASS\n",
      "tree_tests/tree5.txt: PASS\n",
      "tree_tests/tree60.txt: PASS\n",
      "tree_tests/tree61.txt: PASS\n",
      "tree_tests/tree62.txt: PASS\n",
      "tree_tests/tree63.txt: PASS\n",
      "tree_tests/tree64.txt: PASS\n",
      "tree_tests/tree65.txt: PASS\n",
      "tree_tests/tree66.txt: PASS\n",
      "tree_tests/tree67.txt: PASS\n",
      "tree_tests/tree68.txt: PASS\n",
      "tree_tests/tree69.txt: PASS\n",
      "tree_tests/tree6.txt: PASS\n",
      "tree_tests/tree70.txt: PASS\n",
      "tree_tests/tree71.txt: PASS\n",
      "tree_tests/tree72.txt: PASS\n",
      "tree_tests/tree73.txt: PASS\n",
      "tree_tests/tree74.txt: PASS\n",
      "tree_tests/tree75.txt: PASS\n",
      "tree_tests/tree76.txt: PASS\n",
      "tree_tests/tree77.txt: PASS\n",
      "tree_tests/tree78.txt: PASS\n",
      "tree_tests/tree79.txt: PASS\n",
      "tree_tests/tree7.txt: PASS\n",
      "tree_tests/tree80.txt: PASS\n",
      "tree_tests/tree81.txt: PASS\n",
      "tree_tests/tree82.txt: PASS\n",
      "tree_tests/tree83.txt: PASS\n",
      "tree_tests/tree84.txt: PASS\n",
      "tree_tests/tree85.txt: PASS\n",
      "tree_tests/tree86.txt: PASS\n",
      "tree_tests/tree87.txt: PASS\n",
      "tree_tests/tree88.txt: PASS\n",
      "tree_tests/tree89.txt: PASS\n",
      "tree_tests/tree8.txt: PASS\n",
      "tree_tests/tree90.txt: PASS\n",
      "tree_tests/tree91.txt: PASS\n",
      "tree_tests/tree92.txt: PASS\n",
      "tree_tests/tree93.txt: PASS\n",
      "tree_tests/tree94.txt: PASS\n",
      "tree_tests/tree95.txt: PASS\n",
      "tree_tests/tree96.txt: PASS\n",
      "tree_tests/tree97.txt: PASS\n",
      "tree_tests/tree98.txt: PASS\n",
      "tree_tests/tree99.txt: PASS\n",
      "tree_tests/tree9.txt: PASS\n"
     ]
    }
   ],
   "source": [
    "config = read_config('configs/2a/green_config.txt', globals(), locals())\n",
    "example_population = TreeGenotype.initialization(100, **config['pac_init'])\n",
    "\n",
    "os.makedirs('tree_tests/', exist_ok=True)\n",
    "for idx, individual in enumerate(example_population):\n",
    "    with open(f'tree_tests/tree{idx}.txt','w') as f:\n",
    "        f.write(individual.serialize())\n",
    "\n",
    "!python tree_check.py tree_tests/tree*.txt\n",
    "\n",
    "del config, example_population"
   ]
  },
  {
   "cell_type": "markdown",
   "id": "b6eab5b0-5cf4-44d3-ae38-74d82d2bfc2b",
   "metadata": {
    "jupyter": {
     "source_hidden": true
    }
   },
   "source": [
    "### Deserialization\n",
    "With your serialization working correctly (hopefully), you can begin working on deserialization in the `TreeGenotype.deserialize` method. We have provided a lot of the logic of this method for you, parsing the string in order to determine where nodes belong in the deserialized tree, and your only job is to create the individual nodes and piece them together into your chosen data structure.\n",
    "\n",
    "After finishing that implementation, run the following cell to check that your code is correctly recreating parse trees."
   ]
  },
  {
   "cell_type": "code",
   "execution_count": 23,
   "id": "9b72743a-570c-4775-a9a5-87f4c29c54c3",
   "metadata": {
    "collapsed": true,
    "jupyter": {
     "outputs_hidden": true,
     "source_hidden": true
    }
   },
   "outputs": [
    {
     "name": "stdout",
     "output_type": "stream",
     "text": [
      "Tree 0 was deserialized correctly!\n",
      "Tree 1 was deserialized correctly!\n",
      "Tree 2 was deserialized correctly!\n",
      "Tree 3 was deserialized correctly!\n",
      "Tree 4 was deserialized correctly!\n"
     ]
    }
   ],
   "source": [
    "config = read_config('configs/2a/green_config.txt', globals(), locals())\n",
    "config['pac_init']['depth_limit'] = 3\n",
    "example_population = TreeGenotype.initialization(5, **config['pac_init'])\n",
    "\n",
    "for idx, individual in enumerate(example_population):\n",
    "    # Serialize a random tree\n",
    "    serialization = individual.serialize()\n",
    "\n",
    "    # Deserialize to reconstruct the tree as a new TreeGenotype\n",
    "    deserialized = TreeGenotype()\n",
    "    deserialized.deserialize(serialization)\n",
    "    reserialization = deserialized.serialize()\n",
    "\n",
    "    if serialization == reserialization:\n",
    "        print(f'Tree {idx} was deserialized correctly!')\n",
    "    else:\n",
    "        print(f'Tree {idx} was NOT deserialized correctly!')\n",
    "        print(f'Initial tree:\\n{serialization}')\n",
    "        print(f'Deserialized tree:\\n{reserialization}')\n",
    "\n",
    "del config, example_population"
   ]
  },
  {
   "cell_type": "markdown",
   "id": "41356d95",
   "metadata": {
    "jupyter": {
     "source_hidden": true
    }
   },
   "source": [
    "## Fitness Evaluation\n",
    "In this assignment, we're leaving part of the fitness function for you to implement as you need to interface your custom tree genotype implementation. In Assignment 2c, we'll be performing competitive co-evolution with multiple controllers. For assignments 2a and 2b though, your Pac-Man agents will play against ghost agents that select random moves.\n",
    "\n",
    "### State Dictionaries\n",
    "The interface between your parse tree and the game is through a list of state dictionaries. This list represents the space of valid $s'$ states resulting from Pac-Man's possible actions. Each $s'$ state is represented by one of the state dictionaries. The state dictionaries contain all the information about the game necessary for your parse tree's sensor inputs. Execute the following cell to see an example of what a state dictionary looks like."
   ]
  },
  {
   "cell_type": "code",
   "execution_count": null,
   "id": "b08baddf",
   "metadata": {
    "jupyter": {
     "source_hidden": true
    }
   },
   "outputs": [],
   "source": [
    "from gpac import GPacGame\n",
    "from fitness import parse_map\n",
    "\n",
    "config = read_config('configs/2a/green_config.txt', globals(), locals())\n",
    "\n",
    "# Ignore these next 2 lines; this is not code you will ever be using in practice.\n",
    "game_map = parse_map(config['game']['game_map'])\n",
    "game = GPacGame(game_map)\n",
    "\n",
    "# The following lines are the focus of this demo.\n",
    "actions = game.get_actions()\n",
    "s_primes = game.get_observations(actions)\n",
    "for k, v in s_primes[0].items():\n",
    "    if not isinstance(v, tuple):\n",
    "        print(\"{}: {}\".format(k, v))\n",
    "\n",
    "walls = s_primes[0]['walls']\n",
    "print('walls:')\n",
    "for y in range(1, len(walls[0]) + 1):\n",
    "    for x in range(len(walls)):\n",
    "        if walls[x][-y]:\n",
    "            print('#', end='')\n",
    "        else:\n",
    "            print('~', end='')\n",
    "    print()\n",
    "\n",
    "del game_map, game, actions, s_primes, walls"
   ]
  },
  {
   "cell_type": "markdown",
   "id": "54f55f8b",
   "metadata": {
    "jupyter": {
     "source_hidden": true
    }
   },
   "source": [
    "**Notes**:\n",
    "* The above cell prints the walls using `#` and `~`, to make the map easier to read. In the code, however, walls are represented with `True` or `False`, with `walls[x][y]` being `True` if there is a wall in cell `(x, y)`, or `False` if there is not.\n",
    "* `fruit` will be an `(x, y)` tuple if there is a fruit on the map, or `None` if there is not a fruit.\n",
    "* To determine if a player is Pac-Man (rather than a ghost), you should use `'m' in player`. There will be bonuses in future assignments that involve having multiple Pac-Man agents; in that case, their names will be `'m0'`, `'m1'`, `'m2'`, etc.\n",
    "\n",
    "### Tree Execution\n",
    "Regardless of how you've implemented your trees so far, they must accept as input a state dictionary and return as output a floating-point number representing the tree's score for that state. Using this score, you will select the index of the action with the best score as determined by the greedy policy mentioned earlier in this notebook.\n",
    "\n",
    "In whatever order you like, implement your tree execution functionality and the portion of `play_GPac` in `fitness.py` where you use your genotype to score states and select an action. The `play_GPac` function expects as input a `pac_controller` object in addition to other parameters in your config file. The object you pass in for the controller could either be a `TreeGenotype` object with an initialized `genes` member variable, or the genotype's `genes` member object itself.\n",
    "\n",
    "The implementation of tree execution and the fitness function is relatively open-ended and thus you may test the execution of your parse trees however you see fit. If you're feeling lost though, feel free to reference the Pac-Man GP Tree Implementation presentation given in class for some pseudocode and guidance. The easiest way to test your tree execution is most likely to implement a single-node tree for each of your terminal primitives and then perform a fitness evaluation using those before moving on to deeper trees.\n",
    "\n",
    "We softly recommend that you cache the values from your terminal primitives during the evaluation of a given state. That is, a tree might have ten different `P` nodes in it, but these will all have the same value for the same state; running the full calculation ten separate times for every state is unnecessary. Caching this value in an intelligent and efficient way can dramatically reduce runtimes, but you have to carefully consider how you approach this to ensure it isn't causing incorrect behavior.\n",
    "\n",
    "**Note**: In addition to the execution method shown in class, GP can also be implemented by assigning the chosen function to a member variable of the nodes, as Python allows you to use functions just like any other variable. This might be an advanced technique, but feel free to look closer at how the survival selection function was called in the Assignment Series 1 EA object class for an example of what this could look like.\n",
    "\n",
    "Using the following cell, assign to `pac_controller` an object appropriate for your `play_GPac` implementation to play a full game. You are welcome to add additional tests to the following cell as well."
   ]
  },
  {
   "cell_type": "code",
   "execution_count": 31,
   "id": "c0e86b0b",
   "metadata": {},
   "outputs": [
    {
     "name": "stdout",
     "output_type": "stream",
     "text": [
      "Pac-Man's score was 2.3255813953488373, and the game log was written to test_game.txt\n"
     ]
    }
   ],
   "source": [
    "config = read_config('configs/2a/green_config.txt', globals(), locals())\n",
    "\n",
    "from tree_genotype import TreeGenotype\n",
    "from fitness import play_GPac\n",
    "\n",
    "# Assume `config` has already been loaded from green_config.txt\n",
    "controller = TreeGenotype()\n",
    "controller.genes = TreeGenotype.generate_full_tree(\n",
    "    depth_limit=config['pac_init']['depth_limit'],\n",
    "    terminals=config['pac_init']['terminals'],\n",
    "    nonterminals=config['pac_init']['nonterminals']\n",
    ")\n",
    "\n",
    "# Assign your controller to this variable.\n",
    "pac_controller = controller\n",
    "\n",
    "# You should use a similar function call in your search algorithm code.\n",
    "score, log = play_GPac(pac_controller, **config['game'])\n",
    "\n",
    "# Logging the game for use with the visualizer.\n",
    "game_log_path = 'test_game.txt'\n",
    "with open(game_log_path, 'w') as f:\n",
    "    [f.write(f'{line}\\n') for line in log]\n",
    "\n",
    "# Print for tutorialization.\n",
    "print(f\"Pac-Man's score was {score}, and the game log was written to {game_log_path}\")\n",
    "\n",
    "del config, pac_controller, score, log, game_log_path"
   ]
  },
  {
   "cell_type": "markdown",
   "id": "65d84142",
   "metadata": {},
   "source": [
    "## Random Search Algorithm\n",
    "By this point, your implementation of tree initialization, tree printing, tree execution, and the fitness function should be complete. In the following cell, implement a function to conduct a single run of random GP search by evaluating a population of `num_evaluations` solutions.\n",
    "\n",
    "Beyond just implementing random search, there are five data collection tasks for this function:\n",
    "\n",
    "1. Call `hist.add(score)` once per evaluation\n",
    "2. Return the highest-scoring `TreeGenotype` as `best_solution`\n",
    "3. Return the score this best solution received as `best_score`\n",
    "4. Return the log from the game that produced this best score as `best_log`\n",
    "5. Return appropriate data for generating an evals-vs-best-score stairstep plot as `stairstep_data`\n",
    "    * This is identical to the requirement from Assignment 1a\n",
    "\n",
    "\n",
    "**Note**: The game logs can consume a very large amount of memory, especially if you plan on multiprocessing your experiment. We recommend you write your random search in such a way that only the current-best game log is stored in memory at any given time. If you attempt to run `num_evaluations` games before determining which game's log you need to keep, you may run out of RAM. This is especially relevant if you want to fully leverage multiprocessing during the multi-run experiment portion of this assignment."
   ]
  },
  {
   "cell_type": "code",
   "execution_count": 36,
   "id": "63998d50",
   "metadata": {},
   "outputs": [],
   "source": [
    "from math import inf\n",
    "\n",
    "def random_search_run(num_evaluations, config):\n",
    "\n",
    "    hist = RoundedFitnessHistogramMaker()\n",
    "    best_score = -inf\n",
    "    best_solution: TreeGenotype\n",
    "    best_log: List[str]\n",
    "    stairstep_data: List[float] = []\n",
    "\n",
    "    pac_kwargs = dict(config.get(\"pac_init\", {}))\n",
    "    game_kwargs = dict(config.get(\"game\", {}))\n",
    "\n",
    "    for _ in range(num_evaluations):\n",
    "        # each evaluation samples a fresh controller using ramped half-and-half so that we\n",
    "        # use both grow and full tree generation strategies\n",
    "        candidate = TreeGenotype.initialization(1, **pac_kwargs)[0]\n",
    "\n",
    "        score, log = play_GPac(candidate, **game_kwargs)\n",
    "        hist.add(score)\n",
    "        candidate.fitness = score\n",
    "\n",
    "        if score > best_score:\n",
    "            #store copies of the leading candidate\n",
    "            best_score = score\n",
    "            best_solution = candidate\n",
    "            best_log = list(log)\n",
    "\n",
    "        #track the non-decreasing best score to simplify stairstep plotting\n",
    "        stairstep_data.append(best_score)\n",
    "\n",
    "    \n",
    "    \n",
    "    \n",
    "    \n",
    "    return best_solution, best_score, best_log, stairstep_data, hist"
   ]
  },
  {
   "cell_type": "markdown",
   "id": "902d938b-bd13-4364-b5ab-d0a781eb67d1",
   "metadata": {},
   "source": [
    "Now run the next cell to test your function. This may take a minute or two to run. **If you ever change the function in the previous cell, make sure to execute that cell again so the changes get loaded by the interpreter!** Otherwise, the changes won't take effect in other cells."
   ]
  },
  {
   "cell_type": "code",
   "execution_count": 37,
   "id": "ffb6d5a8-4e5d-4435-8faa-dee607cca1dc",
   "metadata": {},
   "outputs": [
    {
     "name": "stdout",
     "output_type": "stream",
     "text": [
      "Best solution looks like:\n",
      "G\n",
      "Best score: 34.031007751937985\n",
      "Histogram:\n"
     ]
    },
    {
     "data": {
      "application/vnd.jupyter.widget-view+json": {
       "model_id": "d9c6356886294c3b9c2eb626632b9e6b",
       "version_major": 2,
       "version_minor": 0
      },
      "image/png": "[encoded data removed]",
      "text/html": [
       "\n",
       "            <div style=\"display: inline-block;\">\n",
       "                <div class=\"jupyter-widgets widget-label\" style=\"text-align: center;\">\n",
       "                    Figure\n",
       "                </div>\n",
       "                <img src='data:image/png;base64,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' width=1000.0/>\n",
       "            </div>\n",
       "        "
      ],
      "text/plain": [
       "Canvas(header_visible=False, toolbar=Toolbar(toolitems=[('Home', 'Reset original view', 'home', 'home'), ('Bac…"
      ]
     },
     "metadata": {},
     "output_type": "display_data"
    },
    {
     "name": "stdout",
     "output_type": "stream",
     "text": [
      "Stairstep data:\n",
      "[28.68217054263566, 28.68217054263566, 28.68217054263566, 28.68217054263566, 28.68217054263566, 28.68217054263566, 28.68217054263566, 28.68217054263566, 28.68217054263566, 28.68217054263566, 28.68217054263566, 28.68217054263566, 28.68217054263566, 28.68217054263566, 28.68217054263566, 28.68217054263566, 28.68217054263566, 28.68217054263566, 28.68217054263566, 28.68217054263566, 28.68217054263566, 34.031007751937985, 34.031007751937985, 34.031007751937985, 34.031007751937985, 34.031007751937985, 34.031007751937985, 34.031007751937985, 34.031007751937985, 34.031007751937985, 34.031007751937985, 34.031007751937985, 34.031007751937985, 34.031007751937985, 34.031007751937985, 34.031007751937985, 34.031007751937985, 34.031007751937985, 34.031007751937985, 34.031007751937985, 34.031007751937985, 34.031007751937985, 34.031007751937985, 34.031007751937985, 34.031007751937985, 34.031007751937985, 34.031007751937985, 34.031007751937985, 34.031007751937985, 34.031007751937985, 34.031007751937985, 34.031007751937985, 34.031007751937985, 34.031007751937985, 34.031007751937985, 34.031007751937985, 34.031007751937985, 34.031007751937985, 34.031007751937985, 34.031007751937985, 34.031007751937985, 34.031007751937985, 34.031007751937985, 34.031007751937985, 34.031007751937985, 34.031007751937985, 34.031007751937985, 34.031007751937985, 34.031007751937985, 34.031007751937985, 34.031007751937985, 34.031007751937985, 34.031007751937985, 34.031007751937985, 34.031007751937985, 34.031007751937985, 34.031007751937985, 34.031007751937985, 34.031007751937985, 34.031007751937985, 34.031007751937985, 34.031007751937985, 34.031007751937985, 34.031007751937985, 34.031007751937985, 34.031007751937985, 34.031007751937985, 34.031007751937985, 34.031007751937985, 34.031007751937985, 34.031007751937985, 34.031007751937985, 34.031007751937985, 34.031007751937985, 34.031007751937985, 34.031007751937985, 34.031007751937985, 34.031007751937985, 34.031007751937985, 34.031007751937985]\n"
     ]
    }
   ],
   "source": [
    "config = read_config('configs/2a/green_config.txt', globals(), locals())\n",
    "num_evaluations = 100 # Smaller eval count to make this test quicker\n",
    "\n",
    "# Call your function\n",
    "(\n",
    "    best_solution,\n",
    "    best_score,\n",
    "    best_log,\n",
    "    stairstep_data,\n",
    "    hist\n",
    ") = random_search_run(num_evaluations, config)\n",
    "\n",
    "print('Best solution looks like:')\n",
    "print(best_solution.serialize())\n",
    "print('Best score:', best_score)\n",
    "\n",
    "print('Histogram:')\n",
    "hist.get_plot(f'Example Random Search with {num_evaluations} Evaluations').show()\n",
    "\n",
    "print('Stairstep data:')\n",
    "print(stairstep_data)\n",
    "\n",
    "del config, num_evaluations, best_solution, best_score, best_log, stairstep_data, hist"
   ]
  },
  {
   "cell_type": "markdown",
   "id": "b11b22a0",
   "metadata": {},
   "source": [
    "## Full Random Search Experiment\n",
    "Now, write the code for conducting a multi-run experiment in the following cell. For data collection, you need to return five things from this function:\n",
    "\n",
    "1. The highest score encountered in each run (one number per run) as `best_per_run`\n",
    "2. The highest-scoring `TreeGenotype` found by any of the runs as `best_solution`\n",
    "3. The log from the highest-score game found by any of the runs as `best_log`\n",
    "4. The `stairstep_data` from the run which produced the best solution\n",
    "5. The `RoundedFitnessHistogramMaker` representing the data collected from the runs (**this is already done for you!**)\n",
    "\n",
    "As with the previous assignments, there are two important things to note about this cell. First, **any time you change a `.py` file, you need to re-execute the following cell** to avoid pickling errors. Second, if you run out of RAM (which typically manifests as your program no longer utilizing the CPU, even though it *looks* like it's still running), you need to pass `processes=x` to the `multiprocessing.Pool` call in order to limit the number of runs that execute in parallel."
   ]
  },
  {
   "cell_type": "code",
   "execution_count": 41,
   "id": "4cd0df7d",
   "metadata": {},
   "outputs": [],
   "source": [
    "from tree_genotype import TreeGenotype\n",
    "from fitness import play_GPac\n",
    "import math\n",
    "\n",
    "# Returning a TreeGenotype object can cause pickling issues depending on your implementation.\n",
    "# This just calls your random search run function, and serializes the best solution.\n",
    "# We instead return this serialized string and the other data, sidestepping the issue.\n",
    "def multiprocess_helper(num_evaluations, config):\n",
    "    (\n",
    "        best_solution,\n",
    "        best_score,\n",
    "        best_log,\n",
    "        stairstep_data,\n",
    "        hist\n",
    "    ) = random_search_run(num_evaluations, config)\n",
    "    return best_solution.serialize(), best_score, best_log, stairstep_data, hist\n",
    "\n",
    "\n",
    "def random_search_experiment(num_runs: int, num_evaluations: int, config):\n",
    "    # We handle this for you; don't worry about the histograms here\n",
    "    hist_per_run: List[RoundedFitnessHistogramMaker] = []\n",
    "\n",
    "    # Track the highest score seen for each run in order of completion.\n",
    "    best_per_run: List[float] = []\n",
    "\n",
    "    # Keep references to the overall-best artifacts so we can return them.\n",
    "    best_solution: TreeGenotype | None = None\n",
    "    best_log = None\n",
    "    stairstep_data = None\n",
    "\n",
    "    # Maintain the highest score observed across every run for comparisons.\n",
    "    best_overall_score = -math.inf\n",
    "\n",
    "    # This executes your runs in parallel, using the multiprocess_helper function\n",
    "    # IMPORTANT: If you are running out of RAM, as mentioned in the above text,\n",
    "    # you can pass 'processes' keyword argument to multiprocessing.Pool() here\n",
    "    with multiprocessing.Pool() as pool:\n",
    "        args = [(num_evaluations, config)] * num_runs\n",
    "        run_results = list(pool.starmap(multiprocess_helper, args))\n",
    "\n",
    "    # Iterate over the completed runs' results\n",
    "    for run_serialization, run_best_score, run_best_log, run_stairstep_data, hist in run_results:\n",
    "        run_best_solution = TreeGenotype()\n",
    "        run_best_solution.deserialize(run_serialization)\n",
    "        hist_per_run.append(hist)\n",
    "\n",
    "        #record the best score from this run\n",
    "        best_per_run.append(run_best_score)\n",
    "\n",
    "        #update the overall-best bookkeeping when this run improves upon the best score\n",
    "        if run_best_score > best_overall_score:\n",
    "            best_overall_score = run_best_score\n",
    "            best_solution = run_best_solution\n",
    "            best_log = run_best_log\n",
    "            stairstep_data = run_stairstep_data\n",
    "\n",
    "    # Merge the histograms into one single histogram\n",
    "    merged_hist = RoundedFitnessHistogramMaker.merge(hist_per_run)\n",
    "\n",
    "    return best_per_run, best_solution, best_log, stairstep_data, merged_hist"
   ]
  },
  {
   "cell_type": "markdown",
   "id": "ced145d0-fc92-4801-897d-cb8bf05412a9",
   "metadata": {},
   "source": [
    "Let's run a quick test in the next cell to make sure everything works, before we embark on a full experiment. As a reminder, **if you change the previous cell, make sure to re-run that cell to save the changes to your function!** We'll do 3 runs of 1,000 evaluations each:"
   ]
  },
  {
   "cell_type": "code",
   "execution_count": 42,
   "id": "c13557dd-661b-4425-90b1-578d6d5f2124",
   "metadata": {},
   "outputs": [
    {
     "name": "stdout",
     "output_type": "stream",
     "text": [
      "Correct number of best fitnesses? True\n",
      "Best fitness per run: [79.6124031007752, 112.17054263565892, 65.73643410852713]\n",
      "Best solution looks like:\n",
      "-\n",
      "|/\n",
      "||*\n",
      "|||W\n",
      "|||W\n",
      "||+\n",
      "|||W\n",
      "|||W\n",
      "|*\n",
      "||/\n",
      "|||P\n",
      "|||W\n",
      "||RAND\n",
      "|||-\n",
      "||||F\n",
      "||||/\n",
      "|||||W\n",
      "|||||F\n",
      "|||/\n",
      "||||RAND\n",
      "|||||W\n",
      "|||||P\n",
      "||||*\n",
      "|||||F\n",
      "|||||G\n",
      "Histogram:\n"
     ]
    },
    {
     "data": {
      "application/vnd.jupyter.widget-view+json": {
       "model_id": "f71e8f7a90da4be480d576c50ffc7c3d",
       "version_major": 2,
       "version_minor": 0
      },
      "image/png": "[encoded data removed]",
      "text/html": [
       "\n",
       "            <div style=\"display: inline-block;\">\n",
       "                <div class=\"jupyter-widgets widget-label\" style=\"text-align: center;\">\n",
       "                    Figure\n",
       "                </div>\n",
       "                <img src='data:image/png;base64,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' width=1000.0/>\n",
       "            </div>\n",
       "        "
      ],
      "text/plain": [
       "Canvas(header_visible=False, toolbar=Toolbar(toolitems=[('Home', 'Reset original view', 'home', 'home'), ('Bac…"
      ]
     },
     "metadata": {},
     "output_type": "display_data"
    },
    {
     "name": "stdout",
     "output_type": "stream",
     "text": [
      "Stairstep data:\n",
      "[17.05426356589147, 20.155038759689923, 20.155038759689923, 20.155038759689923, 20.155038759689923, 20.155038759689923, 20.155038759689923, 20.155038759689923, 20.155038759689923, 20.155038759689923, 20.155038759689923, 20.155038759689923, 20.155038759689923, 20.155038759689923, 27.829457364341085, 27.829457364341085, 54.10852713178294, 54.10852713178294, 54.10852713178294, 54.10852713178294, 54.10852713178294, 54.10852713178294, 54.10852713178294, 54.10852713178294, 54.10852713178294, 54.10852713178294, 54.10852713178294, 54.10852713178294, 54.10852713178294, 54.10852713178294, 54.10852713178294, 54.10852713178294, 54.10852713178294, 54.10852713178294, 54.10852713178294, 54.10852713178294, 54.10852713178294, 54.10852713178294, 54.10852713178294, 54.10852713178294, 54.10852713178294, 54.10852713178294, 54.10852713178294, 75.73643410852713, 75.73643410852713, 75.73643410852713, 75.73643410852713, 75.73643410852713, 75.73643410852713, 75.73643410852713, 75.73643410852713, 75.73643410852713, 75.73643410852713, 75.73643410852713, 75.73643410852713, 75.73643410852713, 75.73643410852713, 75.73643410852713, 75.73643410852713, 75.73643410852713, 75.73643410852713, 75.73643410852713, 75.73643410852713, 75.73643410852713, 75.73643410852713, 75.73643410852713, 75.73643410852713, 75.73643410852713, 75.73643410852713, 75.73643410852713, 75.73643410852713, 75.73643410852713, 75.73643410852713, 75.73643410852713, 75.73643410852713, 75.73643410852713, 75.73643410852713, 75.73643410852713, 75.73643410852713, 75.73643410852713, 75.73643410852713, 75.73643410852713, 75.73643410852713, 75.73643410852713, 75.73643410852713, 75.73643410852713, 75.73643410852713, 75.73643410852713, 75.73643410852713, 75.73643410852713, 75.73643410852713, 75.73643410852713, 75.73643410852713, 75.73643410852713, 75.73643410852713, 75.73643410852713, 75.73643410852713, 75.73643410852713, 75.73643410852713, 75.73643410852713, 75.73643410852713, 75.73643410852713, 75.73643410852713, 75.73643410852713, 75.73643410852713, 75.73643410852713, 75.73643410852713, 75.73643410852713, 75.73643410852713, 75.73643410852713, 75.73643410852713, 75.73643410852713, 75.73643410852713, 75.73643410852713, 75.73643410852713, 75.73643410852713, 75.73643410852713, 75.73643410852713, 75.73643410852713, 75.73643410852713, 75.73643410852713, 75.73643410852713, 75.73643410852713, 75.73643410852713, 75.73643410852713, 75.73643410852713, 75.73643410852713, 75.73643410852713, 75.73643410852713, 75.73643410852713, 75.73643410852713, 75.73643410852713, 75.73643410852713, 75.73643410852713, 75.73643410852713, 75.73643410852713, 75.73643410852713, 75.73643410852713, 75.73643410852713, 75.73643410852713, 75.73643410852713, 75.73643410852713, 75.73643410852713, 75.73643410852713, 75.73643410852713, 75.73643410852713, 75.73643410852713, 75.73643410852713, 75.73643410852713, 75.73643410852713, 75.73643410852713, 75.73643410852713, 75.73643410852713, 75.73643410852713, 75.73643410852713, 75.73643410852713, 75.73643410852713, 75.73643410852713, 75.73643410852713, 75.73643410852713, 75.73643410852713, 75.73643410852713, 75.73643410852713, 75.73643410852713, 75.73643410852713, 75.73643410852713, 75.73643410852713, 75.73643410852713, 75.73643410852713, 75.73643410852713, 75.73643410852713, 75.73643410852713, 75.73643410852713, 75.73643410852713, 75.73643410852713, 75.73643410852713, 75.73643410852713, 75.73643410852713, 75.73643410852713, 75.73643410852713, 75.73643410852713, 75.73643410852713, 75.73643410852713, 75.73643410852713, 75.73643410852713, 75.73643410852713, 75.73643410852713, 75.73643410852713, 75.73643410852713, 75.73643410852713, 75.73643410852713, 75.73643410852713, 75.73643410852713, 75.73643410852713, 75.73643410852713, 75.73643410852713, 75.73643410852713, 75.73643410852713, 75.73643410852713, 75.73643410852713, 75.73643410852713, 75.73643410852713, 75.73643410852713, 75.73643410852713, 75.73643410852713, 75.73643410852713, 75.73643410852713, 75.73643410852713, 75.73643410852713, 75.73643410852713, 75.73643410852713, 75.73643410852713, 75.73643410852713, 75.73643410852713, 75.73643410852713, 75.73643410852713, 75.73643410852713, 75.73643410852713, 75.73643410852713, 75.73643410852713, 75.73643410852713, 75.73643410852713, 75.73643410852713, 75.73643410852713, 75.73643410852713, 75.73643410852713, 75.73643410852713, 75.73643410852713, 75.73643410852713, 75.73643410852713, 75.73643410852713, 75.73643410852713, 75.73643410852713, 75.73643410852713, 75.73643410852713, 75.73643410852713, 75.73643410852713, 75.73643410852713, 75.73643410852713, 75.73643410852713, 75.73643410852713, 75.73643410852713, 75.73643410852713, 75.73643410852713, 75.73643410852713, 75.73643410852713, 75.73643410852713, 75.73643410852713, 75.73643410852713, 75.73643410852713, 75.73643410852713, 75.73643410852713, 75.73643410852713, 75.73643410852713, 75.73643410852713, 75.73643410852713, 75.73643410852713, 75.73643410852713, 75.73643410852713, 75.73643410852713, 75.73643410852713, 75.73643410852713, 75.73643410852713, 75.73643410852713, 75.73643410852713, 75.73643410852713, 75.73643410852713, 75.73643410852713, 75.73643410852713, 75.73643410852713, 75.73643410852713, 75.73643410852713, 75.73643410852713, 75.73643410852713, 75.73643410852713, 75.73643410852713, 75.73643410852713, 75.73643410852713, 75.73643410852713, 75.73643410852713, 75.73643410852713, 75.73643410852713, 75.73643410852713, 75.73643410852713, 75.73643410852713, 75.73643410852713, 75.73643410852713, 75.73643410852713, 75.73643410852713, 75.73643410852713, 75.73643410852713, 75.73643410852713, 75.73643410852713, 75.73643410852713, 75.73643410852713, 75.73643410852713, 75.73643410852713, 75.73643410852713, 75.73643410852713, 75.73643410852713, 75.73643410852713, 75.73643410852713, 75.73643410852713, 75.73643410852713, 75.73643410852713, 75.73643410852713, 75.73643410852713, 75.73643410852713, 75.73643410852713, 75.73643410852713, 75.73643410852713, 75.73643410852713, 75.73643410852713, 75.73643410852713, 75.73643410852713, 75.73643410852713, 75.73643410852713, 75.73643410852713, 75.73643410852713, 75.73643410852713, 75.73643410852713, 75.73643410852713, 75.73643410852713, 75.73643410852713, 75.73643410852713, 75.73643410852713, 75.73643410852713, 75.73643410852713, 75.73643410852713, 75.73643410852713, 75.73643410852713, 75.73643410852713, 75.73643410852713, 75.73643410852713, 75.73643410852713, 75.73643410852713, 75.73643410852713, 75.73643410852713, 75.73643410852713, 75.73643410852713, 75.73643410852713, 75.73643410852713, 75.73643410852713, 75.73643410852713, 75.73643410852713, 75.73643410852713, 75.73643410852713, 75.73643410852713, 75.73643410852713, 75.73643410852713, 75.73643410852713, 75.73643410852713, 75.73643410852713, 75.73643410852713, 75.73643410852713, 75.73643410852713, 75.73643410852713, 75.73643410852713, 75.73643410852713, 75.73643410852713, 75.73643410852713, 75.73643410852713, 75.73643410852713, 75.73643410852713, 75.73643410852713, 75.73643410852713, 75.73643410852713, 75.73643410852713, 75.73643410852713, 75.73643410852713, 75.73643410852713, 75.73643410852713, 75.73643410852713, 75.73643410852713, 75.73643410852713, 75.73643410852713, 75.73643410852713, 75.73643410852713, 75.73643410852713, 75.73643410852713, 75.73643410852713, 75.73643410852713, 75.73643410852713, 75.73643410852713, 75.73643410852713, 75.73643410852713, 75.73643410852713, 75.73643410852713, 75.73643410852713, 75.73643410852713, 75.73643410852713, 75.73643410852713, 75.73643410852713, 75.73643410852713, 75.73643410852713, 75.73643410852713, 75.73643410852713, 75.73643410852713, 75.73643410852713, 75.73643410852713, 75.73643410852713, 75.73643410852713, 75.73643410852713, 75.73643410852713, 75.73643410852713, 75.73643410852713, 75.73643410852713, 75.73643410852713, 75.73643410852713, 75.73643410852713, 75.73643410852713, 75.73643410852713, 75.73643410852713, 75.73643410852713, 75.73643410852713, 75.73643410852713, 75.73643410852713, 75.73643410852713, 75.73643410852713, 75.73643410852713, 75.73643410852713, 75.73643410852713, 75.73643410852713, 75.73643410852713, 75.73643410852713, 75.73643410852713, 75.73643410852713, 75.73643410852713, 75.73643410852713, 75.73643410852713, 75.73643410852713, 75.73643410852713, 75.73643410852713, 75.73643410852713, 75.73643410852713, 75.73643410852713, 75.73643410852713, 75.73643410852713, 75.73643410852713, 75.73643410852713, 75.73643410852713, 75.73643410852713, 75.73643410852713, 75.73643410852713, 75.73643410852713, 75.73643410852713, 75.73643410852713, 75.73643410852713, 75.73643410852713, 75.73643410852713, 75.73643410852713, 75.73643410852713, 75.73643410852713, 75.73643410852713, 75.73643410852713, 75.73643410852713, 75.73643410852713, 75.73643410852713, 75.73643410852713, 75.73643410852713, 75.73643410852713, 75.73643410852713, 75.73643410852713, 75.73643410852713, 75.73643410852713, 75.73643410852713, 75.73643410852713, 75.73643410852713, 75.73643410852713, 75.73643410852713, 75.73643410852713, 75.73643410852713, 75.73643410852713, 75.73643410852713, 75.73643410852713, 75.73643410852713, 75.73643410852713, 75.73643410852713, 75.73643410852713, 75.73643410852713, 75.73643410852713, 75.73643410852713, 75.73643410852713, 75.73643410852713, 75.73643410852713, 75.73643410852713, 75.73643410852713, 75.73643410852713, 75.73643410852713, 75.73643410852713, 75.73643410852713, 75.73643410852713, 75.73643410852713, 75.73643410852713, 75.73643410852713, 75.73643410852713, 75.73643410852713, 75.73643410852713, 75.73643410852713, 75.73643410852713, 75.73643410852713, 75.73643410852713, 75.73643410852713, 75.73643410852713, 75.73643410852713, 75.73643410852713, 75.73643410852713, 75.73643410852713, 75.73643410852713, 75.73643410852713, 75.73643410852713, 75.73643410852713, 75.73643410852713, 75.73643410852713, 75.73643410852713, 75.73643410852713, 75.73643410852713, 75.73643410852713, 75.73643410852713, 75.73643410852713, 75.73643410852713, 75.73643410852713, 75.73643410852713, 75.73643410852713, 75.73643410852713, 75.73643410852713, 75.73643410852713, 75.73643410852713, 75.73643410852713, 75.73643410852713, 75.73643410852713, 75.73643410852713, 75.73643410852713, 75.73643410852713, 75.73643410852713, 75.73643410852713, 75.73643410852713, 75.73643410852713, 75.73643410852713, 75.73643410852713, 75.73643410852713, 75.73643410852713, 75.73643410852713, 75.73643410852713, 75.73643410852713, 75.73643410852713, 75.73643410852713, 75.73643410852713, 75.73643410852713, 75.73643410852713, 75.73643410852713, 75.73643410852713, 75.73643410852713, 75.73643410852713, 75.73643410852713, 75.73643410852713, 75.73643410852713, 75.73643410852713, 75.73643410852713, 75.73643410852713, 75.73643410852713, 112.17054263565892, 112.17054263565892, 112.17054263565892, 112.17054263565892, 112.17054263565892, 112.17054263565892, 112.17054263565892, 112.17054263565892, 112.17054263565892, 112.17054263565892, 112.17054263565892, 112.17054263565892, 112.17054263565892, 112.17054263565892, 112.17054263565892, 112.17054263565892, 112.17054263565892, 112.17054263565892, 112.17054263565892, 112.17054263565892, 112.17054263565892, 112.17054263565892, 112.17054263565892, 112.17054263565892, 112.17054263565892, 112.17054263565892, 112.17054263565892, 112.17054263565892, 112.17054263565892, 112.17054263565892, 112.17054263565892, 112.17054263565892, 112.17054263565892, 112.17054263565892, 112.17054263565892, 112.17054263565892, 112.17054263565892, 112.17054263565892, 112.17054263565892, 112.17054263565892, 112.17054263565892, 112.17054263565892, 112.17054263565892, 112.17054263565892, 112.17054263565892, 112.17054263565892, 112.17054263565892, 112.17054263565892, 112.17054263565892, 112.17054263565892, 112.17054263565892, 112.17054263565892, 112.17054263565892, 112.17054263565892, 112.17054263565892, 112.17054263565892, 112.17054263565892, 112.17054263565892, 112.17054263565892, 112.17054263565892, 112.17054263565892, 112.17054263565892, 112.17054263565892, 112.17054263565892, 112.17054263565892, 112.17054263565892, 112.17054263565892, 112.17054263565892, 112.17054263565892, 112.17054263565892, 112.17054263565892, 112.17054263565892, 112.17054263565892, 112.17054263565892, 112.17054263565892, 112.17054263565892, 112.17054263565892, 112.17054263565892, 112.17054263565892, 112.17054263565892, 112.17054263565892, 112.17054263565892, 112.17054263565892, 112.17054263565892, 112.17054263565892, 112.17054263565892, 112.17054263565892, 112.17054263565892, 112.17054263565892, 112.17054263565892, 112.17054263565892, 112.17054263565892, 112.17054263565892, 112.17054263565892, 112.17054263565892, 112.17054263565892, 112.17054263565892, 112.17054263565892, 112.17054263565892, 112.17054263565892, 112.17054263565892, 112.17054263565892, 112.17054263565892, 112.17054263565892, 112.17054263565892, 112.17054263565892, 112.17054263565892, 112.17054263565892, 112.17054263565892, 112.17054263565892, 112.17054263565892, 112.17054263565892, 112.17054263565892, 112.17054263565892, 112.17054263565892, 112.17054263565892, 112.17054263565892, 112.17054263565892, 112.17054263565892, 112.17054263565892, 112.17054263565892, 112.17054263565892, 112.17054263565892, 112.17054263565892, 112.17054263565892, 112.17054263565892, 112.17054263565892, 112.17054263565892, 112.17054263565892, 112.17054263565892, 112.17054263565892, 112.17054263565892, 112.17054263565892, 112.17054263565892, 112.17054263565892, 112.17054263565892, 112.17054263565892, 112.17054263565892, 112.17054263565892, 112.17054263565892, 112.17054263565892, 112.17054263565892, 112.17054263565892, 112.17054263565892, 112.17054263565892, 112.17054263565892, 112.17054263565892, 112.17054263565892, 112.17054263565892, 112.17054263565892, 112.17054263565892, 112.17054263565892, 112.17054263565892, 112.17054263565892, 112.17054263565892, 112.17054263565892, 112.17054263565892, 112.17054263565892, 112.17054263565892, 112.17054263565892, 112.17054263565892, 112.17054263565892, 112.17054263565892, 112.17054263565892, 112.17054263565892, 112.17054263565892, 112.17054263565892, 112.17054263565892, 112.17054263565892, 112.17054263565892, 112.17054263565892, 112.17054263565892, 112.17054263565892, 112.17054263565892, 112.17054263565892, 112.17054263565892, 112.17054263565892, 112.17054263565892, 112.17054263565892, 112.17054263565892, 112.17054263565892, 112.17054263565892, 112.17054263565892, 112.17054263565892, 112.17054263565892, 112.17054263565892, 112.17054263565892, 112.17054263565892, 112.17054263565892, 112.17054263565892, 112.17054263565892, 112.17054263565892, 112.17054263565892, 112.17054263565892, 112.17054263565892, 112.17054263565892, 112.17054263565892, 112.17054263565892, 112.17054263565892, 112.17054263565892, 112.17054263565892, 112.17054263565892, 112.17054263565892, 112.17054263565892, 112.17054263565892, 112.17054263565892, 112.17054263565892, 112.17054263565892, 112.17054263565892, 112.17054263565892, 112.17054263565892, 112.17054263565892, 112.17054263565892, 112.17054263565892, 112.17054263565892, 112.17054263565892, 112.17054263565892, 112.17054263565892, 112.17054263565892, 112.17054263565892, 112.17054263565892, 112.17054263565892, 112.17054263565892, 112.17054263565892, 112.17054263565892, 112.17054263565892, 112.17054263565892, 112.17054263565892, 112.17054263565892, 112.17054263565892, 112.17054263565892, 112.17054263565892, 112.17054263565892, 112.17054263565892, 112.17054263565892, 112.17054263565892, 112.17054263565892, 112.17054263565892, 112.17054263565892, 112.17054263565892, 112.17054263565892, 112.17054263565892, 112.17054263565892, 112.17054263565892, 112.17054263565892, 112.17054263565892, 112.17054263565892, 112.17054263565892, 112.17054263565892, 112.17054263565892, 112.17054263565892, 112.17054263565892, 112.17054263565892, 112.17054263565892, 112.17054263565892, 112.17054263565892, 112.17054263565892, 112.17054263565892, 112.17054263565892, 112.17054263565892, 112.17054263565892, 112.17054263565892, 112.17054263565892, 112.17054263565892, 112.17054263565892, 112.17054263565892, 112.17054263565892, 112.17054263565892, 112.17054263565892, 112.17054263565892, 112.17054263565892, 112.17054263565892, 112.17054263565892, 112.17054263565892, 112.17054263565892, 112.17054263565892, 112.17054263565892, 112.17054263565892, 112.17054263565892, 112.17054263565892, 112.17054263565892, 112.17054263565892, 112.17054263565892, 112.17054263565892, 112.17054263565892, 112.17054263565892, 112.17054263565892, 112.17054263565892, 112.17054263565892, 112.17054263565892, 112.17054263565892, 112.17054263565892, 112.17054263565892, 112.17054263565892, 112.17054263565892, 112.17054263565892, 112.17054263565892, 112.17054263565892, 112.17054263565892, 112.17054263565892, 112.17054263565892, 112.17054263565892, 112.17054263565892, 112.17054263565892, 112.17054263565892, 112.17054263565892, 112.17054263565892, 112.17054263565892, 112.17054263565892, 112.17054263565892, 112.17054263565892, 112.17054263565892, 112.17054263565892, 112.17054263565892, 112.17054263565892, 112.17054263565892, 112.17054263565892, 112.17054263565892, 112.17054263565892, 112.17054263565892, 112.17054263565892, 112.17054263565892, 112.17054263565892, 112.17054263565892, 112.17054263565892, 112.17054263565892, 112.17054263565892, 112.17054263565892, 112.17054263565892, 112.17054263565892, 112.17054263565892, 112.17054263565892, 112.17054263565892, 112.17054263565892, 112.17054263565892, 112.17054263565892, 112.17054263565892, 112.17054263565892, 112.17054263565892, 112.17054263565892, 112.17054263565892, 112.17054263565892, 112.17054263565892, 112.17054263565892, 112.17054263565892, 112.17054263565892, 112.17054263565892, 112.17054263565892, 112.17054263565892, 112.17054263565892, 112.17054263565892, 112.17054263565892, 112.17054263565892, 112.17054263565892, 112.17054263565892, 112.17054263565892, 112.17054263565892, 112.17054263565892, 112.17054263565892, 112.17054263565892, 112.17054263565892, 112.17054263565892, 112.17054263565892, 112.17054263565892, 112.17054263565892, 112.17054263565892, 112.17054263565892, 112.17054263565892, 112.17054263565892, 112.17054263565892, 112.17054263565892, 112.17054263565892, 112.17054263565892, 112.17054263565892, 112.17054263565892, 112.17054263565892, 112.17054263565892, 112.17054263565892, 112.17054263565892, 112.17054263565892, 112.17054263565892, 112.17054263565892, 112.17054263565892, 112.17054263565892, 112.17054263565892, 112.17054263565892, 112.17054263565892, 112.17054263565892, 112.17054263565892, 112.17054263565892, 112.17054263565892, 112.17054263565892, 112.17054263565892, 112.17054263565892, 112.17054263565892, 112.17054263565892, 112.17054263565892, 112.17054263565892, 112.17054263565892, 112.17054263565892, 112.17054263565892, 112.17054263565892, 112.17054263565892, 112.17054263565892, 112.17054263565892, 112.17054263565892, 112.17054263565892, 112.17054263565892, 112.17054263565892, 112.17054263565892, 112.17054263565892, 112.17054263565892, 112.17054263565892, 112.17054263565892, 112.17054263565892, 112.17054263565892, 112.17054263565892, 112.17054263565892, 112.17054263565892, 112.17054263565892, 112.17054263565892, 112.17054263565892, 112.17054263565892, 112.17054263565892, 112.17054263565892, 112.17054263565892, 112.17054263565892, 112.17054263565892, 112.17054263565892, 112.17054263565892, 112.17054263565892, 112.17054263565892, 112.17054263565892, 112.17054263565892, 112.17054263565892, 112.17054263565892, 112.17054263565892, 112.17054263565892, 112.17054263565892]\n"
     ]
    }
   ],
   "source": [
    "example_num_runs = 3\n",
    "example_num_evaluations = 1_000\n",
    "config = read_config('configs/2a/green_config.txt', globals(), locals())\n",
    "\n",
    "(\n",
    "    example_best_per_run,\n",
    "    example_best_solution,\n",
    "    example_best_log,\n",
    "    example_stairstep_data,\n",
    "    example_hist\n",
    ") = random_search_experiment(example_num_runs,\n",
    "                             example_num_evaluations,\n",
    "                             config)\n",
    "\n",
    "print('Correct number of best fitnesses?', example_num_runs == len(example_best_per_run))\n",
    "\n",
    "print('Best fitness per run:', example_best_per_run)\n",
    "print('Best solution looks like:')\n",
    "print(example_best_solution.serialize())\n",
    "\n",
    "print('Histogram:')\n",
    "example_hist_plot = example_hist.get_plot('Example Random Search Experiment with ' +\\\n",
    "                                          f'{example_num_runs}*{example_num_evaluations} Evaluations')\n",
    "example_hist_plot.show()\n",
    "\n",
    "print('Stairstep data:')\n",
    "print(example_stairstep_data)"
   ]
  },
  {
   "cell_type": "markdown",
   "id": "b08f97b6-7a09-450d-bbfd-9ae0c4e1a0d4",
   "metadata": {},
   "source": [
    "As in previous assignments, the following cell defines a function that saves your results in a permanent format for later analysis."
   ]
  },
  {
   "cell_type": "code",
   "execution_count": null,
   "id": "540fa591-477d-430e-b1ee-1f2a99c17210",
   "metadata": {},
   "outputs": [],
   "source": [
    "def save_data(best_per_run, best_solution, best_log, stairstep_data, hist, subdir, config):\n",
    "    subdir.mkdir(parents=True, exist_ok=True)\n",
    "    \n",
    "    with open(subdir / 'best_per_run.txt', 'w') as f:\n",
    "        for result in best_per_run:\n",
    "            f.write(str(result) + '\\n')\n",
    "\n",
    "    with open(subdir / 'best_solution.txt', 'w') as f:\n",
    "        f.write(best_solution.serialize())\n",
    "\n",
    "    with open(subdir / 'best_log.txt', 'w') as f:\n",
    "        for line in best_log:\n",
    "            f.write(str(line) + '\\n')\n",
    "\n",
    "    with open(subdir / 'stairstep.txt', 'w') as f:\n",
    "        f.write(str(stairstep_data))\n",
    "    \n",
    "    hist.save_to_file(subdir / 'histogram.txt')\n",
    "\n",
    "    print('Data saved to', subdir)"
   ]
  },
  {
   "cell_type": "markdown",
   "id": "3ed2db89-e19f-43ff-b6a3-463b21f8e8c6",
   "metadata": {},
   "source": [
    "Now run the next cell to save the results of our test experiment!"
   ]
  },
  {
   "cell_type": "code",
   "execution_count": null,
   "id": "a24225e1-5242-4c97-9542-582a8424354a",
   "metadata": {},
   "outputs": [],
   "source": [
    "save_data(example_best_per_run,\n",
    "          example_best_solution,\n",
    "          example_best_log,\n",
    "          example_stairstep_data,\n",
    "          example_hist,\n",
    "          Path('./data/2a/example/'),\n",
    "          config)\n",
    "example_hist_plot.savefig('data/2a/example/histogram.png')"
   ]
  },
  {
   "cell_type": "markdown",
   "id": "ab0a6159-9de0-4144-aba6-73edc6a2f6a4",
   "metadata": {},
   "source": [
    "Outside of this notebook, navigate to `./data/2a/example/` and take a look at what was saved. Make sure everything is there, and the data matches what we printed above.\n",
    "\n",
    "If everything works as expected, run the following cell to run your full experiment and save the data! Note this may take a while, as we are generating and testing quite a few solutions."
   ]
  },
  {
   "cell_type": "code",
   "execution_count": null,
   "id": "0b8e34f8-10b6-4c2c-9f2b-d6acc4e23073",
   "metadata": {},
   "outputs": [],
   "source": [
    "num_runs = 10\n",
    "num_evaluations = 10_000\n",
    "config = read_config('configs/2a/green_config.txt', globals(), locals())\n",
    "\n",
    "(\n",
    "    best_per_run,\n",
    "    best_solution,\n",
    "    best_log,\n",
    "    stairstep_data,\n",
    "    hist\n",
    ") = random_search_experiment(num_runs,\n",
    "                             num_evaluations,\n",
    "                             config)\n",
    "\n",
    "save_data(best_per_run,\n",
    "          best_solution,\n",
    "          best_log,\n",
    "          stairstep_data,\n",
    "          hist,\n",
    "          Path('./data/2a/green/'),\n",
    "          config)\n",
    "\n",
    "fig = hist.get_plot(f'Distribution of Scores over {num_runs} Runs of Random Search')\n",
    "fig.savefig('data/2a/green/histogram.png')\n",
    "fig.show()"
   ]
  },
  {
   "cell_type": "markdown",
   "id": "bbeb679f",
   "metadata": {},
   "source": [
    "# Preparing the Report\n",
    "Now that you've completed the implementation of random search, you need to use the data you've generated to create the report requested in the assignment description document. This report requires a histogram, which has already been made for you, as well as a stairstep plot, which we will walk through here, comments about the best game, which we will visualize for you, and some metrics based on the best scores.\n",
    "\n",
    "## Stairstep Plot\n",
    "Just as in Assignment 1a, the data used for your plot should demonstrate the search progress of the run that produced the highest score. The x-axis should be the number of evaluations, and the y-axis should be score. The plotted value is the highest score seen so far during the run.\n",
    "\n",
    "In the following cell, finish implementing the function which will generate your stairstep plot. All you need to do is write code that transforms `my_data` (which will be whatever data your experiment function returned) into `figure_y_values`, the y-values for the stairstep plot. Depending on how you collected data, this transformation may not even require any work at all. You are also free to rewrite this function's internal logic, if using `ax.step` or `ax.stairs` is simpler for your use-case (note this may require changing the way `figure_x_values` is calculated)."
   ]
  },
  {
   "cell_type": "code",
   "execution_count": null,
   "id": "a77d2e23",
   "metadata": {},
   "outputs": [],
   "source": [
    "def make_stairstep(my_data, title, filename):\n",
    "    # Set this to the appropriate y values\n",
    "    # That is, the y-value that should be displayed, one per evaluation\n",
    "    figure_y_values = None\n",
    "\n",
    "    \n",
    "    \n",
    "    # x values are 1..num_evaluations if using ax.plot\n",
    "    # You *probably* don't need to change this\n",
    "    figure_x_values = [i + 1 for i in range(len(figure_y_values))]\n",
    "    \n",
    "    # This will plot the above x and y values for you\n",
    "    fig, ax = plt.subplots()\n",
    "    ax.plot(figure_x_values, figure_y_values)\n",
    "    ax.set(xlabel='Evaluations', ylabel='Score', title=title)\n",
    "    fig.canvas.header_visible = False\n",
    "    fig.canvas.footer_visible = False\n",
    "    fig.savefig(filename)"
   ]
  },
  {
   "cell_type": "markdown",
   "id": "a2310a96-30d8-4723-834e-ce84ad0246cd",
   "metadata": {},
   "source": [
    "With that function completed, run the following cell to generate your stairstep plot! We'll save it to `data/2a/green/stairstep.png`, as well as display it. Don't forget to put it in your report!"
   ]
  },
  {
   "cell_type": "code",
   "execution_count": null,
   "id": "eb362234-7661-458b-8fc5-b6b1df10c87b",
   "metadata": {},
   "outputs": [],
   "source": [
    "make_stairstep(stairstep_data,\n",
    "               'Random Search Best Score Progression',\n",
    "               'data/2a/green/stairstep.png')"
   ]
  },
  {
   "cell_type": "markdown",
   "id": "7c9b1dd3-8acc-487e-a9c5-4adbdd47bfec",
   "metadata": {},
   "source": [
    "## Visualization\n",
    "Simply run the following cell to get a visualization! This will be displayed in your notebook, and it will also be saved to your data directory. Note this may take several minutes."
   ]
  },
  {
   "cell_type": "code",
   "execution_count": null,
   "id": "aa6d813d-5ac5-4c90-9549-84383122cbcc",
   "metadata": {},
   "outputs": [],
   "source": [
    "animation = render_game(best_log)\n",
    "\n",
    "with open('data/2a/green/visualization.html', 'w') as f:\n",
    "    f.write(animation)\n",
    "\n",
    "out = Output()\n",
    "out.append_display_data(HTML(animation))\n",
    "del animation\n",
    "out"
   ]
  },
  {
   "cell_type": "markdown",
   "id": "5fbe7498-4b04-4aa1-9fc8-5d86719411d1",
   "metadata": {},
   "source": [
    "You do not need to include the visualization itself in your report (though it does need to be in your data directory). We do, however, ask that you watch the game and provide a few qualitative comments about it in your report.\n",
    "\n",
    "## Best Scores\n",
    "In the following cell, write code to calculate the mean and standard deviation of the best score found in each run. Put these in your report."
   ]
  },
  {
   "cell_type": "code",
   "execution_count": null,
   "id": "a653f36e-e688-4628-a473-78ab5c22ca2c",
   "metadata": {},
   "outputs": [],
   "source": [
    "# TODO: Calculate mean and standard deviation of your best score from each run here\n"
   ]
  },
  {
   "cell_type": "markdown",
   "id": "7b1dd29a",
   "metadata": {},
   "source": [
    "# Red 1 Deliverable (Bonus)\n",
    "If attempting the Assignment 2a RED 1 deliverable, perform your experiment and analysis below. You may add new cells, if you wish. Note you should change your fitness function call to `play_GPac` to have `None` as the first argument, and your ghost controller as the second argument, i.e. `play_GPac(None, ghost_controller, **config['game'])`."
   ]
  },
  {
   "cell_type": "code",
   "execution_count": null,
   "id": "937ec7aa",
   "metadata": {},
   "outputs": [],
   "source": []
  },
  {
   "cell_type": "markdown",
   "id": "07099334",
   "metadata": {},
   "source": [
    "# Red 2 Deliverable (Bonus)\n",
    "If attempting the Assignemt 2a RED 2 deliverable, perform your experiment and analysis below. You may add new cells, if you wish."
   ]
  },
  {
   "cell_type": "code",
   "execution_count": null,
   "id": "94b34930",
   "metadata": {},
   "outputs": [],
   "source": []
  },
  {
   "cell_type": "markdown",
   "id": "d27f69a1",
   "metadata": {},
   "source": [
    "## References\n",
    "[1] A. E. Eiben and J. E. Smith, Introduction to Evolutionary Computing. Second Edition, Springer-Verlag,\n",
    "Berlin Heidelberg, 2015, ISBN 978-3-662-44873-1"
   ]
  }
 ],
 "metadata": {
  "kernelspec": {
   "display_name": "Python 3 (ipykernel)",
   "language": "python",
   "name": "python3"
  },
  "language_info": {
   "codemirror_mode": {
    "name": "ipython",
    "version": 3
   },
   "file_extension": ".py",
   "mimetype": "text/x-python",
   "name": "python",
   "nbconvert_exporter": "python",
   "pygments_lexer": "ipython3",
   "version": "3.11.13"
  }
 },
 "nbformat": 4,
 "nbformat_minor": 5
}
